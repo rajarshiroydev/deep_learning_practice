{
 "cells": [
  {
   "cell_type": "code",
   "execution_count": 21,
   "id": "37ee24fa",
   "metadata": {},
   "outputs": [],
   "source": [
    "from pprint import pprint"
   ]
  },
  {
   "cell_type": "code",
   "execution_count": 22,
   "id": "593cc9c5",
   "metadata": {},
   "outputs": [],
   "source": [
    "from datasets import load_dataset"
   ]
  },
  {
   "cell_type": "code",
   "execution_count": 23,
   "id": "f2d16133",
   "metadata": {},
   "outputs": [],
   "source": [
    "imdb = load_dataset(\"stanfordnlp/imdb\")"
   ]
  },
  {
   "cell_type": "code",
   "execution_count": 24,
   "id": "da5342d4",
   "metadata": {},
   "outputs": [
    {
     "name": "stdout",
     "output_type": "stream",
     "text": [
      "DatasetDict({\n",
      "    train: Dataset({\n",
      "        features: ['text', 'label'],\n",
      "        num_rows: 25000\n",
      "    })\n",
      "    test: Dataset({\n",
      "        features: ['text', 'label'],\n",
      "        num_rows: 25000\n",
      "    })\n",
      "    unsupervised: Dataset({\n",
      "        features: ['text', 'label'],\n",
      "        num_rows: 50000\n",
      "    })\n",
      "})\n"
     ]
    }
   ],
   "source": [
    "print(imdb)"
   ]
  },
  {
   "cell_type": "code",
   "execution_count": 25,
   "id": "7d61930f",
   "metadata": {},
   "outputs": [
    {
     "name": "stdout",
     "output_type": "stream",
     "text": [
      "{'label': 0,\n",
      " 'text': 'Although I have to admit I laughed more watching this movie than the '\n",
      "         'last few comedies I saw.<br /><br />The budget must have consisted '\n",
      "         'of pocket change from the actors. The production values are so low '\n",
      "         'that they actual made it kind of fun to watch. Reminds me of the '\n",
      "         'Robot Monster made up of a guy in a gorilla suit with a cardboard '\n",
      "         'diving helmet on.<br /><br />In one scene a hapless victim gets '\n",
      "         'their arm and leg cut off. Geez, hard to believe but the Black '\n",
      "         'Knight scene from Holy Grail was more realistic. I kept wondering '\n",
      "         'why the victim didn\\'t start shouting \" None Shall Pass\" and \" It\\'s '\n",
      "         'only a flesh wound, I\\'ve had worse\". It was one of the funniest '\n",
      "         'scenes I\\'ve seen in the past year.<br /><br />The \"gladiator/demon\" '\n",
      "         'was a stitch too. Between the horribly cheap costume and the geeky '\n",
      "         'look of the guy in it the end result was hysterical.<br /><br '\n",
      "         '/>Truly a movie that is bad enough to be watchable. Kind of like '\n",
      "         'seeing a slow motion auto accident on film.<br /><br />'}\n"
     ]
    }
   ],
   "source": [
    "# check the value at a particular index\n",
    "idx = 1000\n",
    "example = imdb['train'][idx]\n",
    "pprint(example)"
   ]
  },
  {
   "cell_type": "code",
   "execution_count": 26,
   "id": "caefccc0",
   "metadata": {},
   "outputs": [
    {
     "data": {
      "text/plain": [
       "Dataset({\n",
       "    features: ['text', 'label'],\n",
       "    num_rows: 50\n",
       "})"
      ]
     },
     "execution_count": 26,
     "metadata": {},
     "output_type": "execute_result"
    }
   ],
   "source": [
    "# choose a subset of indices from the dataset\n",
    "idx = range(0, 100, 2)\n",
    "list_of_examples = imdb['train'].select(idx)\n",
    "list_of_examples"
   ]
  },
  {
   "cell_type": "code",
   "execution_count": null,
   "id": "0b50f1b2",
   "metadata": {},
   "outputs": [],
   "source": []
  },
  {
   "cell_type": "code",
   "execution_count": 27,
   "id": "a8dad85f",
   "metadata": {},
   "outputs": [
    {
     "name": "stdout",
     "output_type": "stream",
     "text": [
      "['cs-en', 'de-en', 'fr-en', 'hi-en', 'ru-en']\n"
     ]
    }
   ],
   "source": [
    "# configs and splits\n",
    "from datasets import get_dataset_config_names, get_dataset_split_names\n",
    "print(get_dataset_config_names(\"wmt/wmt14\"))"
   ]
  },
  {
   "cell_type": "code",
   "execution_count": 28,
   "id": "bb8a22d2",
   "metadata": {},
   "outputs": [
    {
     "name": "stdout",
     "output_type": "stream",
     "text": [
      "['train', 'validation', 'test']\n"
     ]
    }
   ],
   "source": [
    "print(get_dataset_split_names(\"wmt/wmt14\", 'hi-en'))"
   ]
  },
  {
   "cell_type": "code",
   "execution_count": 29,
   "id": "e80d1b72",
   "metadata": {},
   "outputs": [
    {
     "data": {
      "text/plain": [
       "DatasetDict({\n",
       "    train: Dataset({\n",
       "        features: ['translation'],\n",
       "        num_rows: 32863\n",
       "    })\n",
       "    validation: Dataset({\n",
       "        features: ['translation'],\n",
       "        num_rows: 520\n",
       "    })\n",
       "    test: Dataset({\n",
       "        features: ['translation'],\n",
       "        num_rows: 2507\n",
       "    })\n",
       "})"
      ]
     },
     "execution_count": 29,
     "metadata": {},
     "output_type": "execute_result"
    }
   ],
   "source": [
    "translation_dataset = load_dataset(\"wmt/wmt14\", name='hi-en')\n",
    "translation_dataset"
   ]
  },
  {
   "cell_type": "code",
   "execution_count": 30,
   "id": "92318f4b",
   "metadata": {},
   "outputs": [
    {
     "name": "stdout",
     "output_type": "stream",
     "text": [
      "Dataset({\n",
      "    features: ['translation'],\n",
      "    num_rows: 35890\n",
      "})\n",
      "35890\n"
     ]
    }
   ],
   "source": [
    "# combine all the splits of a dataset\n",
    "combined_dataset = load_dataset(\"wmt/wmt14\", name=\"hi-en\", split=\"train+test+validation\")\n",
    "print(combined_dataset)\n",
    "print(len(combined_dataset))"
   ]
  },
  {
   "cell_type": "markdown",
   "id": "ad236026",
   "metadata": {},
   "source": [
    "### Features\n",
    "Features define the internal structure of a dataset. It is used to specify the underlying serialization format. The features of a dataset vary based on the type of data."
   ]
  },
  {
   "cell_type": "code",
   "execution_count": 31,
   "id": "50d92c54",
   "metadata": {},
   "outputs": [
    {
     "data": {
      "text/plain": [
       "{'translation': Translation(languages=['hi', 'en'], id=None)}"
      ]
     },
     "execution_count": 31,
     "metadata": {},
     "output_type": "execute_result"
    }
   ],
   "source": [
    "translation_dataset['train'].features"
   ]
  },
  {
   "cell_type": "markdown",
   "id": "0fd14297",
   "metadata": {},
   "source": [
    "In the above example, the feature is \"Translation\""
   ]
  },
  {
   "cell_type": "code",
   "execution_count": 32,
   "id": "4d1302a3",
   "metadata": {},
   "outputs": [
    {
     "data": {
      "text/plain": [
       "Dataset({\n",
       "    features: ['sentence1', 'sentence2', 'label', 'idx'],\n",
       "    num_rows: 3668\n",
       "})"
      ]
     },
     "execution_count": 32,
     "metadata": {},
     "output_type": "execute_result"
    }
   ],
   "source": [
    "# load MRPC from the GLUE dataset\n",
    "# MRPC: Microsoft Research Paraphrase Corpus\n",
    "mrpc = load_dataset('glue', 'mrpc', split='train')\n",
    "mrpc"
   ]
  },
  {
   "cell_type": "code",
   "execution_count": 33,
   "id": "f2185b12",
   "metadata": {},
   "outputs": [
    {
     "data": {
      "text/plain": [
       "{'sentence1': Value(dtype='string', id=None),\n",
       " 'sentence2': Value(dtype='string', id=None),\n",
       " 'label': ClassLabel(names=['not_equivalent', 'equivalent'], id=None),\n",
       " 'idx': Value(dtype='int32', id=None)}"
      ]
     },
     "execution_count": 33,
     "metadata": {},
     "output_type": "execute_result"
    }
   ],
   "source": [
    "mrpc.features"
   ]
  }
 ],
 "metadata": {
  "kernelspec": {
   "display_name": "venv",
   "language": "python",
   "name": "python3"
  },
  "language_info": {
   "codemirror_mode": {
    "name": "ipython",
    "version": 3
   },
   "file_extension": ".py",
   "mimetype": "text/x-python",
   "name": "python",
   "nbconvert_exporter": "python",
   "pygments_lexer": "ipython3",
   "version": "3.13.0"
  }
 },
 "nbformat": 4,
 "nbformat_minor": 5
}
