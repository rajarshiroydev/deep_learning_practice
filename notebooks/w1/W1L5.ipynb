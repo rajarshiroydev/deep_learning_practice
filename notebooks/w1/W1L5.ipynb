{
 "cells": [
  {
   "cell_type": "code",
   "execution_count": 64,
   "id": "2f617308",
   "metadata": {},
   "outputs": [
    {
     "data": {
      "text/plain": [
       "8"
      ]
     },
     "execution_count": 64,
     "metadata": {},
     "output_type": "execute_result"
    }
   ],
   "source": [
    "import multiprocessing\n",
    "multiprocessing.cpu_count() # gives the physical + logical core count"
   ]
  },
  {
   "cell_type": "code",
   "execution_count": 65,
   "id": "69e9dc1d",
   "metadata": {},
   "outputs": [],
   "source": [
    "from pprint import pprint\n",
    "from datasets import load_dataset, concatenate_datasets, interleave_datasets"
   ]
  },
  {
   "cell_type": "code",
   "execution_count": 66,
   "id": "0627ba60",
   "metadata": {},
   "outputs": [],
   "source": [
    "imdb = load_dataset('stanfordnlp/imdb')"
   ]
  },
  {
   "cell_type": "code",
   "execution_count": 67,
   "id": "3e401587",
   "metadata": {},
   "outputs": [
    {
     "name": "stdout",
     "output_type": "stream",
     "text": [
      "Before Filtering\n",
      "-----------------------------------\n"
     ]
    },
    {
     "data": {
      "text/plain": [
       "DatasetDict({\n",
       "    train: Dataset({\n",
       "        features: ['text', 'label'],\n",
       "        num_rows: 25000\n",
       "    })\n",
       "    test: Dataset({\n",
       "        features: ['text', 'label'],\n",
       "        num_rows: 25000\n",
       "    })\n",
       "    unsupervised: Dataset({\n",
       "        features: ['text', 'label'],\n",
       "        num_rows: 50000\n",
       "    })\n",
       "})"
      ]
     },
     "execution_count": 67,
     "metadata": {},
     "output_type": "execute_result"
    }
   ],
   "source": [
    "print('Before Filtering')\n",
    "print(35*'-')\n",
    "imdb"
   ]
  },
  {
   "cell_type": "code",
   "execution_count": 68,
   "id": "531a0584",
   "metadata": {},
   "outputs": [
    {
     "name": "stdout",
     "output_type": "stream",
     "text": [
      "25000\n"
     ]
    }
   ],
   "source": [
    "example = imdb['train']\n",
    "print(len(example)) # no of observations"
   ]
  },
  {
   "cell_type": "code",
   "execution_count": 69,
   "id": "118784a5",
   "metadata": {},
   "outputs": [
    {
     "name": "stdout",
     "output_type": "stream",
     "text": [
      "<class 'datasets.arrow_dataset.Dataset'>\n"
     ]
    }
   ],
   "source": [
    "print(type(example))"
   ]
  },
  {
   "cell_type": "markdown",
   "id": "e704b548",
   "metadata": {},
   "source": [
    "### Filter"
   ]
  },
  {
   "cell_type": "code",
   "execution_count": 70,
   "id": "b9bf14f7",
   "metadata": {},
   "outputs": [],
   "source": [
    "# Filtering\n",
    "num_words = 100\n",
    "# taking all those observations whose lenght of the text is greater than 100 words\n",
    "imdb_filtered = imdb.filter(lambda example: len(example['text'].split(' ')) >= num_words)"
   ]
  },
  {
   "cell_type": "code",
   "execution_count": 71,
   "id": "11703705",
   "metadata": {},
   "outputs": [
    {
     "name": "stdout",
     "output_type": "stream",
     "text": [
      "After Filtering\n",
      "-----------------------------------\n",
      "DatasetDict({\n",
      "    train: Dataset({\n",
      "        features: ['text', 'label'],\n",
      "        num_rows: 22074\n",
      "    })\n",
      "    test: Dataset({\n",
      "        features: ['text', 'label'],\n",
      "        num_rows: 21909\n",
      "    })\n",
      "    unsupervised: Dataset({\n",
      "        features: ['text', 'label'],\n",
      "        num_rows: 44095\n",
      "    })\n",
      "})\n"
     ]
    }
   ],
   "source": [
    "print(\"After Filtering\")\n",
    "print(35*'-')\n",
    "print(imdb_filtered)"
   ]
  },
  {
   "cell_type": "markdown",
   "id": "647504c5",
   "metadata": {},
   "source": [
    "### MAP"
   ]
  },
  {
   "cell_type": "code",
   "execution_count": 72,
   "id": "5d71b51b",
   "metadata": {},
   "outputs": [],
   "source": [
    "# using function\n",
    "def add_prefix(example):\n",
    "    example[\"text\"] = \"IMDB: \" + example[\"text\"]\n",
    "    return example"
   ]
  },
  {
   "cell_type": "code",
   "execution_count": 73,
   "id": "b523dcd9",
   "metadata": {},
   "outputs": [
    {
     "name": "stdout",
     "output_type": "stream",
     "text": [
      "{'label': 0,\n",
      " 'text': 'IMDB: Terrible movie. Nuff Said.<br /><br />These Lines are Just '\n",
      "         \"Filler. The movie was bad. Why I have to expand on that I don't \"\n",
      "         'know. This is already a waste of my time. I just wanted to warn '\n",
      "         'others. Avoid this movie. The acting sucks and the writing is just '\n",
      "         'moronic. Bad in every way. The only nice thing about the movie are '\n",
      "         \"Deniz Akkaya's breasts. Even that was ruined though by a terrible \"\n",
      "         'and unneeded rape scene. The movie is a poorly contrived and totally '\n",
      "         'unbelievable piece of garbage.<br /><br />OK now I am just going to '\n",
      "         'rag on IMDb for this stupid rule of 10 lines of text minimum. First '\n",
      "         'I waste my time watching this offal. Then feeling compelled to warn '\n",
      "         'others I create an account with IMDb only to discover that I have to '\n",
      "         'write a friggen essay on the film just to express how bad I think it '\n",
      "         'is. Totally unnecessary.'}\n"
     ]
    }
   ],
   "source": [
    "pprint(add_prefix(example[100]))"
   ]
  },
  {
   "cell_type": "code",
   "execution_count": 74,
   "id": "5b772042",
   "metadata": {},
   "outputs": [
    {
     "data": {
      "text/plain": [
       "DatasetDict({\n",
       "    train: Dataset({\n",
       "        features: ['text', 'label'],\n",
       "        num_rows: 25000\n",
       "    })\n",
       "    test: Dataset({\n",
       "        features: ['text', 'label'],\n",
       "        num_rows: 25000\n",
       "    })\n",
       "    unsupervised: Dataset({\n",
       "        features: ['text', 'label'],\n",
       "        num_rows: 50000\n",
       "    })\n",
       "})"
      ]
     },
     "execution_count": 74,
     "metadata": {},
     "output_type": "execute_result"
    }
   ],
   "source": [
    "# using map\n",
    "imdb_mapped = imdb.map(add_prefix)\n",
    "imdb_mapped"
   ]
  },
  {
   "cell_type": "code",
   "execution_count": 75,
   "id": "74ddb3dd",
   "metadata": {},
   "outputs": [
    {
     "name": "stdout",
     "output_type": "stream",
     "text": [
      "{'label': 0,\n",
      " 'text': 'IMDB: This is an action Western. James Steart leads an all star cast '\n",
      "         'in the scenic Northwest, which is filmed in great splendor. The '\n",
      "         'scenery and costumes are great. There is action and adventure. '\n",
      "         'Stewart plays a wealthy cattleman who runs afoul of a crooked '\n",
      "         'government in the old Nothwest.<br /><br />The main drawback is the '\n",
      "         'stereotypical cynic that Hollywood has always made into a hero. Even '\n",
      "         'when this movie was made, the cynic was the stereotypical hero, and '\n",
      "         'the one Stewart portrays really has few saving graces. He is kind to '\n",
      "         'his two partners, and that does give him an extra dimension of '\n",
      "         'credibility and likability.<br /><br />However, he is so piggish to '\n",
      "         'everyone else, it is hard to really care for him, or to accept him. '\n",
      "         'He is much like the one dimensional spaghetti Western characters '\n",
      "         '(cut not that bad).<br /><br />Still, the minor characters are quite '\n",
      "         'enjoyable. Walter Brennan, Royal Dano, Harry Morgan, and others make '\n",
      "         'this worth watching.'}\n"
     ]
    }
   ],
   "source": [
    "# the function has been applied to all the observations\n",
    "pprint(imdb_mapped['train'][200])"
   ]
  },
  {
   "cell_type": "markdown",
   "id": "1119821d",
   "metadata": {},
   "source": [
    "### Concatenate Datasets\n",
    "We often need to combine two or more datasets. The only requirement is that the datasets must have same features and number of splits"
   ]
  },
  {
   "cell_type": "code",
   "execution_count": 76,
   "id": "2f69e9c9",
   "metadata": {},
   "outputs": [
    {
     "name": "stdout",
     "output_type": "stream",
     "text": [
      "Dataset({\n",
      "    features: ['text', 'label'],\n",
      "    num_rows: 50000\n",
      "})\n",
      "{'text': Value(dtype='string', id=None), 'label': ClassLabel(names=['neg', 'pos'], id=None)}\n"
     ]
    }
   ],
   "source": [
    "imdb_dataset_whole = load_dataset(\"stanfordnlp/imdb\", split='train+test')\n",
    "print(imdb_dataset_whole)\n",
    "print(imdb_dataset_whole.features)"
   ]
  },
  {
   "cell_type": "code",
   "execution_count": 77,
   "id": "ba20838d",
   "metadata": {},
   "outputs": [
    {
     "name": "stdout",
     "output_type": "stream",
     "text": [
      "Dataset({\n",
      "    features: ['text', 'label'],\n",
      "    num_rows: 10662\n",
      "})\n",
      "{'text': Value(dtype='string', id=None), 'label': ClassLabel(names=['neg', 'pos'], id=None)}\n"
     ]
    }
   ],
   "source": [
    "rotten_tomato_whole = load_dataset(\"cornell-movie-review-data/rotten_tomatoes\", split='all')\n",
    "print(rotten_tomato_whole)\n",
    "print(rotten_tomato_whole.features)"
   ]
  },
  {
   "cell_type": "code",
   "execution_count": 78,
   "id": "61318843",
   "metadata": {},
   "outputs": [
    {
     "data": {
      "text/plain": [
       "Dataset({\n",
       "    features: ['text', 'label'],\n",
       "    num_rows: 60662\n",
       "})"
      ]
     },
     "execution_count": 78,
     "metadata": {},
     "output_type": "execute_result"
    }
   ],
   "source": [
    "concat_dataset = concatenate_datasets([imdb_dataset_whole, rotten_tomato_whole], axis=0)\n",
    "concat_dataset"
   ]
  },
  {
   "cell_type": "markdown",
   "id": "b2698797",
   "metadata": {},
   "source": [
    "### Interleaving Datasets"
   ]
  },
  {
   "cell_type": "markdown",
   "id": "6c04ea14",
   "metadata": {},
   "source": [
    "- Oftern times we have n skewed datasets i.e, the number of samples in each dataset might differ drastically.\n",
    "- So we can build a new dataset with proportions according to our choice. Let's say 60% and 40%.\n",
    "\n",
    "- interleave_datasets by default uses `stopping_stragegy=first_exhausted` (construction of the dataset is stopped as soon as one of the dataset runs out of sample)"
   ]
  },
  {
   "cell_type": "code",
   "execution_count": 89,
   "id": "dc47906b",
   "metadata": {},
   "outputs": [
    {
     "data": {
      "text/plain": [
       "Dataset({\n",
       "    features: ['text', 'label'],\n",
       "    num_rows: 26502\n",
       "})"
      ]
     },
     "execution_count": 89,
     "metadata": {},
     "output_type": "execute_result"
    }
   ],
   "source": [
    "inter_datasets = interleave_datasets([imdb_dataset_whole, rotten_tomato_whole], probabilities=[0.6, 0.4])\n",
    "inter_datasets"
   ]
  },
  {
   "cell_type": "markdown",
   "id": "d0e95bd7",
   "metadata": {},
   "source": [
    "### Interable Dataset\n",
    "Suitable for loading samples from large datasets iteratively without writing anything to local disk."
   ]
  },
  {
   "cell_type": "code",
   "execution_count": 92,
   "id": "0e27ea34",
   "metadata": {},
   "outputs": [
    {
     "data": {
      "text/plain": [
       "IterableDataset({\n",
       "    features: ['text', 'label'],\n",
       "    num_shards: 1\n",
       "})"
      ]
     },
     "execution_count": 92,
     "metadata": {},
     "output_type": "execute_result"
    }
   ],
   "source": [
    "imdb_iter_dataset = load_dataset(\"stanfordnlp/imdb\", split='train', streaming=True)\n",
    "imdb_iter_dataset"
   ]
  },
  {
   "cell_type": "code",
   "execution_count": 98,
   "id": "42af4a06",
   "metadata": {},
   "outputs": [
    {
     "name": "stdout",
     "output_type": "stream",
     "text": [
      "{'text': 'I rented I AM CURIOUS-YELLOW from my video store because of all the controversy that surrounded it when it was first released in 1967. I also heard that at first it was seized by U.S. customs if it ever tried to enter this country, therefore being a fan of films considered \"controversial\" I really had to see this for myself.<br /><br />The plot is centered around a young Swedish drama student named Lena who wants to learn everything she can about life. In particular she wants to focus her attentions to making some sort of documentary on what the average Swede thought about certain political issues such as the Vietnam War and race issues in the United States. In between asking politicians and ordinary denizens of Stockholm about their opinions on politics, she has sex with her drama teacher, classmates, and married men.<br /><br />What kills me about I AM CURIOUS-YELLOW is that 40 years ago, this was considered pornographic. Really, the sex and nudity scenes are few and far between, even then it\\'s not shot like some cheaply made porno. While my countrymen mind find it shocking, in reality sex and nudity are a major staple in Swedish cinema. Even Ingmar Bergman, arguably their answer to good old boy John Ford, had sex scenes in his films.<br /><br />I do commend the filmmakers for the fact that any sex shown in the film is shown for artistic purposes rather than just to shock people and make money to be shown in pornographic theaters in America. I AM CURIOUS-YELLOW is a good film for anyone wanting to study the meat and potatoes (no pun intended) of Swedish cinema. But really, this film doesn\\'t have much of a plot.', 'label': 0}\n",
      "{'text': '\"I Am Curious: Yellow\" is a risible and pretentious steaming pile. It doesn\\'t matter what one\\'s political views are because this film can hardly be taken seriously on any level. As for the claim that frontal male nudity is an automatic NC-17, that isn\\'t true. I\\'ve seen R-rated films with male nudity. Granted, they only offer some fleeting views, but where are the R-rated films with gaping vulvas and flapping labia? Nowhere, because they don\\'t exist. The same goes for those crappy cable shows: schlongs swinging in the breeze but not a clitoris in sight. And those pretentious indie movies like The Brown Bunny, in which we\\'re treated to the site of Vincent Gallo\\'s throbbing johnson, but not a trace of pink visible on Chloe Sevigny. Before crying (or implying) \"double-standard\" in matters of nudity, the mentally obtuse should take into account one unavoidably obvious anatomical difference between men and women: there are no genitals on display when actresses appears nude, and the same cannot be said for a man. In fact, you generally won\\'t see female genitals in an American film in anything short of porn or explicit erotica. This alleged double-standard is less a double standard than an admittedly depressing ability to come to terms culturally with the insides of women\\'s bodies.', 'label': 0}\n",
      "{'text': \"If only to avoid making this type of film in the future. This film is interesting as an experiment but tells no cogent story.<br /><br />One might feel virtuous for sitting thru it because it touches on so many IMPORTANT issues but it does so without any discernable motive. The viewer comes away with no new perspectives (unless one comes up with one while one's mind wanders, as it will invariably do during this pointless film).<br /><br />One might better spend one's time staring out a window at a tree growing.<br /><br />\", 'label': 0}\n",
      "{'text': \"This film was probably inspired by Godard's Masculin, féminin and I urge you to see that film instead.<br /><br />The film has two strong elements and those are, (1) the realistic acting (2) the impressive, undeservedly good, photo. Apart from that, what strikes me most is the endless stream of silliness. Lena Nyman has to be most annoying actress in the world. She acts so stupid and with all the nudity in this film,...it's unattractive. Comparing to Godard's film, intellectuality has been replaced with stupidity. Without going too far on this subject, I would say that follows from the difference in ideals between the French and the Swedish society.<br /><br />A movie of its time, and place. 2/10.\", 'label': 0}\n",
      "{'text': 'Oh, brother...after hearing about this ridiculous film for umpteen years all I can think of is that old Peggy Lee song..<br /><br />\"Is that all there is??\" ...I was just an early teen when this smoked fish hit the U.S. I was too young to get in the theater (although I did manage to sneak into \"Goodbye Columbus\"). Then a screening at a local film museum beckoned - Finally I could see this film, except now I was as old as my parents were when they schlepped to see it!!<br /><br />The ONLY reason this film was not condemned to the anonymous sands of time was because of the obscenity case sparked by its U.S. release. MILLIONS of people flocked to this stinker, thinking they were going to see a sex film...Instead, they got lots of closeups of gnarly, repulsive Swedes, on-street interviews in bland shopping malls, asinie political pretension...and feeble who-cares simulated sex scenes with saggy, pale actors.<br /><br />Cultural icon, holy grail, historic artifact..whatever this thing was, shred it, burn it, then stuff the ashes in a lead box!<br /><br />Elite esthetes still scrape to find value in its boring pseudo revolutionary political spewings..But if it weren\\'t for the censorship scandal, it would have been ignored, then forgotten.<br /><br />Instead, the \"I Am Blank, Blank\" rhythymed title was repeated endlessly for years as a titilation for porno films (I am Curious, Lavender - for gay films, I Am Curious, Black - for blaxploitation films, etc..) and every ten years or so the thing rises from the dead, to be viewed by a new generation of suckers who want to see that \"naughty sex film\" that \"revolutionized the film industry\"...<br /><br />Yeesh, avoid like the plague..Or if you MUST see it - rent the video and fast forward to the \"dirty\" parts, just to get it over with.<br /><br />', 'label': 0}\n",
      "{'text': \"I would put this at the top of my list of films in the category of unwatchable trash! There are films that are bad, but the worst kind are the ones that are unwatchable but you are suppose to like them because they are supposed to be good for you! The sex sequences, so shocking in its day, couldn't even arouse a rabbit. The so called controversial politics is strictly high school sophomore amateur night Marxism. The film is self-consciously arty in the worst sense of the term. The photography is in a harsh grainy black and white. Some scenes are out of focus or taken from the wrong angle. Even the sound is bad! And some people call this art?<br /><br />\", 'label': 0}\n",
      "{'text': \"Whoever wrote the screenplay for this movie obviously never consulted any books about Lucille Ball, especially her autobiography. I've never seen so many mistakes in a biopic, ranging from her early years in Celoron and Jamestown to her later years with Desi. I could write a whole list of factual errors, but it would go on for pages. In all, I believe that Lucille Ball is one of those inimitable people who simply cannot be portrayed by anyone other than themselves. If I were Lucie Arnaz and Desi, Jr., I would be irate at how many mistakes were made in this film. The filmmakers tried hard, but the movie seems awfully sloppy to me.\", 'label': 0}\n",
      "{'text': 'When I first saw a glimpse of this movie, I quickly noticed the actress who was playing the role of Lucille Ball. Rachel York\\'s portrayal of Lucy is absolutely awful. Lucille Ball was an astounding comedian with incredible talent. To think about a legend like Lucille Ball being portrayed the way she was in the movie is horrendous. I cannot believe out of all the actresses in the world who could play a much better Lucy, the producers decided to get Rachel York. She might be a good actress in other roles but to play the role of Lucille Ball is tough. It is pretty hard to find someone who could resemble Lucille Ball, but they could at least find someone a bit similar in looks and talent. If you noticed York\\'s portrayal of Lucy in episodes of I Love Lucy like the chocolate factory or vitavetavegamin, nothing is similar in any way-her expression, voice, or movement.<br /><br />To top it all off, Danny Pino playing Desi Arnaz is horrible. Pino does not qualify to play as Ricky. He\\'s small and skinny, his accent is unreal, and once again, his acting is unbelievable. Although Fred and Ethel were not similar either, they were not as bad as the characters of Lucy and Ricky.<br /><br />Overall, extremely horrible casting and the story is badly told. If people want to understand the real life situation of Lucille Ball, I suggest watching A&E Biography of Lucy and Desi, read the book from Lucille Ball herself, or PBS\\' American Masters: Finding Lucy. If you want to see a docudrama, \"Before the Laughter\" would be a better choice. The casting of Lucille Ball and Desi Arnaz in \"Before the Laughter\" is much better compared to this. At least, a similar aspect is shown rather than nothing.', 'label': 0}\n",
      "{'text': 'Who are these \"They\"- the actors? the filmmakers? Certainly couldn\\'t be the audience- this is among the most air-puffed productions in existence. It\\'s the kind of movie that looks like it was a lot of fun to shoot\\x97 TOO much fun, nobody is getting any actual work done, and that almost always makes for a movie that\\'s no fun to watch.<br /><br />Ritter dons glasses so as to hammer home his character\\'s status as a sort of doppleganger of the bespectacled Bogdanovich; the scenes with the breezy Ms. Stratten are sweet, but have an embarrassing, look-guys-I\\'m-dating-the-prom-queen feel to them. Ben Gazzara sports his usual cat\\'s-got-canary grin in a futile attempt to elevate the meager plot, which requires him to pursue Audrey Hepburn with all the interest of a narcoleptic at an insomnia clinic. In the meantime, the budding couple\\'s respective children (nepotism alert: Bogdanovich\\'s daughters) spew cute and pick up some fairly disturbing pointers on \\'love\\' while observing their parents. (Ms. Hepburn, drawing on her dignity, manages to rise above the proceedings- but she has the monumental challenge of playing herself, ostensibly.) Everybody looks great, but so what? It\\'s a movie and we can expect that much, if that\\'s what you\\'re looking for you\\'d be better off picking up a copy of Vogue.<br /><br />Oh- and it has to be mentioned that Colleen Camp thoroughly annoys, even apart from her singing, which, while competent, is wholly unconvincing... the country and western numbers are woefully mismatched with the standards on the soundtrack. Surely this is NOT what Gershwin (who wrote the song from which the movie\\'s title is derived) had in mind; his stage musicals of the 20\\'s may have been slight, but at least they were long on charm. \"They All Laughed\" tries to coast on its good intentions, but nobody- least of all Peter Bogdanovich - has the good sense to put on the brakes.<br /><br />Due in no small part to the tragic death of Dorothy Stratten, this movie has a special place in the heart of Mr. Bogdanovich- he even bought it back from its producers, then distributed it on his own and went bankrupt when it didn\\'t prove popular. His rise and fall is among the more sympathetic and tragic of Hollywood stories, so there\\'s no joy in criticizing the film... there _is_ real emotional investment in Ms. Stratten\\'s scenes. But \"Laughed\" is a faint echo of \"The Last Picture Show\", \"Paper Moon\" or \"What\\'s Up, Doc\"- following \"Daisy Miller\" and \"At Long Last Love\", it was a thundering confirmation of the phase from which P.B. has never emerged.<br /><br />All in all, though, the movie is harmless, only a waste of rental. I want to watch people having a good time, I\\'ll go to the park on a sunny day. For filmic expressions of joy and love, I\\'ll stick to Ernest Lubitsch and Jaques Demy...', 'label': 0}\n",
      "{'text': \"This is said to be a personal film for Peter Bogdonavitch. He based it on his life but changed things around to fit the characters, who are detectives. These detectives date beautiful models and have no problem getting them. Sounds more like a millionaire playboy filmmaker than a detective, doesn't it? This entire movie was written by Peter, and it shows how out of touch with real people he was. You're supposed to write what you know, and he did that, indeed. And leaves the audience bored and confused, and jealous, for that matter. This is a curio for people who want to see Dorothy Stratten, who was murdered right after filming. But Patti Hanson, who would, in real life, marry Keith Richards, was also a model, like Stratten, but is a lot better and has a more ample part. In fact, Stratten's part seemed forced; added. She doesn't have a lot to do with the story, which is pretty convoluted to begin with. All in all, every character in this film is somebody that very few people can relate with, unless you're millionaire from Manhattan with beautiful supermodels at your beckon call. For the rest of us, it's an irritating snore fest. That's what happens when you're out of touch. You entertain your few friends with inside jokes, and bore all the rest.\", 'label': 0}\n"
     ]
    }
   ],
   "source": [
    "for i, example in enumerate(imdb_iter_dataset):\n",
    "    if i == 10:\n",
    "        break\n",
    "    print(example)"
   ]
  },
  {
   "cell_type": "markdown",
   "id": "59a49fc5",
   "metadata": {},
   "source": [
    "### Questions to Ponder\n",
    "1. Can we load a dataset directly from external links?\n",
    "2. Can we load a dataset from zipped file directly?"
   ]
  }
 ],
 "metadata": {
  "kernelspec": {
   "display_name": "venv",
   "language": "python",
   "name": "python3"
  },
  "language_info": {
   "codemirror_mode": {
    "name": "ipython",
    "version": 3
   },
   "file_extension": ".py",
   "mimetype": "text/x-python",
   "name": "python",
   "nbconvert_exporter": "python",
   "pygments_lexer": "ipython3",
   "version": "3.13.0"
  }
 },
 "nbformat": 4,
 "nbformat_minor": 5
}
