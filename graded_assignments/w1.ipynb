{
 "cells": [
  {
   "cell_type": "code",
   "execution_count": 53,
   "id": "9669a5f4",
   "metadata": {},
   "outputs": [],
   "source": [
    "from datasets import load_dataset, get_dataset_config_names, concatenate_datasets"
   ]
  },
  {
   "cell_type": "code",
   "execution_count": 15,
   "id": "e3d6939a",
   "metadata": {},
   "outputs": [],
   "source": [
    "dataset = \"ai4bharat/naamapadam\""
   ]
  },
  {
   "cell_type": "code",
   "execution_count": 16,
   "id": "0e66ab68",
   "metadata": {},
   "outputs": [
    {
     "name": "stdout",
     "output_type": "stream",
     "text": [
      "['as', 'bn', 'gu', 'hi', 'kn', 'ml', 'mr', 'or', 'pa', 'ta', 'te']\n",
      "Number of Configs: 11\n"
     ]
    }
   ],
   "source": [
    "print(get_dataset_config_names(dataset))\n",
    "print(f'Number of Configs: {len(get_dataset_config_names(\"ai4bharat/naamapadam\"))}')"
   ]
  },
  {
   "cell_type": "code",
   "execution_count": 17,
   "id": "d5e1d59f",
   "metadata": {},
   "outputs": [
    {
     "data": {
      "text/plain": [
       "DatasetDict({\n",
       "    train: Dataset({\n",
       "        features: ['tokens', 'ner_tags'],\n",
       "        num_rows: 985787\n",
       "    })\n",
       "    test: Dataset({\n",
       "        features: ['tokens', 'ner_tags'],\n",
       "        num_rows: 867\n",
       "    })\n",
       "    validation: Dataset({\n",
       "        features: ['tokens', 'ner_tags'],\n",
       "        num_rows: 13460\n",
       "    })\n",
       "})"
      ]
     },
     "execution_count": 17,
     "metadata": {},
     "output_type": "execute_result"
    }
   ],
   "source": [
    "hindi_subset = load_dataset(dataset, 'hi')\n",
    "hindi_subset"
   ]
  },
  {
   "cell_type": "code",
   "execution_count": 21,
   "id": "8601191a",
   "metadata": {},
   "outputs": [
    {
     "data": {
      "text/plain": [
       "Dataset({\n",
       "    features: ['tokens', 'ner_tags'],\n",
       "    num_rows: 501435\n",
       "})"
      ]
     },
     "execution_count": 21,
     "metadata": {},
     "output_type": "execute_result"
    }
   ],
   "source": [
    "tamil_subset = load_dataset(dataset, 'ta', split='train+test+validation')\n",
    "tamil_subset"
   ]
  },
  {
   "cell_type": "code",
   "execution_count": null,
   "id": "4adcb714",
   "metadata": {},
   "outputs": [],
   "source": [
    "# labels"
   ]
  },
  {
   "cell_type": "code",
   "execution_count": 22,
   "id": "64b91d60",
   "metadata": {},
   "outputs": [],
   "source": [
    "ds = load_dataset(dataset, 'ta')"
   ]
  },
  {
   "cell_type": "code",
   "execution_count": 23,
   "id": "6d566a81",
   "metadata": {},
   "outputs": [
    {
     "data": {
      "text/plain": [
       "DatasetDict({\n",
       "    train: Dataset({\n",
       "        features: ['tokens', 'ner_tags'],\n",
       "        num_rows: 497882\n",
       "    })\n",
       "    test: Dataset({\n",
       "        features: ['tokens', 'ner_tags'],\n",
       "        num_rows: 758\n",
       "    })\n",
       "    validation: Dataset({\n",
       "        features: ['tokens', 'ner_tags'],\n",
       "        num_rows: 2795\n",
       "    })\n",
       "})"
      ]
     },
     "execution_count": 23,
     "metadata": {},
     "output_type": "execute_result"
    }
   ],
   "source": [
    "ds"
   ]
  },
  {
   "cell_type": "code",
   "execution_count": 34,
   "id": "69914759",
   "metadata": {},
   "outputs": [
    {
     "data": {
      "text/plain": [
       "{'train': [{'filename': '/Users/rajarshiroy/.cache/huggingface/datasets/ai4bharat___naamapadam/ta/1.0.0/9d4f21ac57d11ed4f9ea64854fdc9f5618e61acc/naamapadam-train.arrow'}],\n",
       " 'test': [{'filename': '/Users/rajarshiroy/.cache/huggingface/datasets/ai4bharat___naamapadam/ta/1.0.0/9d4f21ac57d11ed4f9ea64854fdc9f5618e61acc/naamapadam-test.arrow'}],\n",
       " 'validation': [{'filename': '/Users/rajarshiroy/.cache/huggingface/datasets/ai4bharat___naamapadam/ta/1.0.0/9d4f21ac57d11ed4f9ea64854fdc9f5618e61acc/naamapadam-validation.arrow'}]}"
      ]
     },
     "execution_count": 34,
     "metadata": {},
     "output_type": "execute_result"
    }
   ],
   "source": [
    "ds.cache_files"
   ]
  },
  {
   "cell_type": "code",
   "execution_count": 40,
   "id": "e21c2a71",
   "metadata": {},
   "outputs": [
    {
     "data": {
      "text/plain": [
       "'naamapadam-train.arrow'"
      ]
     },
     "execution_count": 40,
     "metadata": {},
     "output_type": "execute_result"
    }
   ],
   "source": [
    "ds.cache_files['train'][0]['filename'].split('/')[-1]"
   ]
  },
  {
   "cell_type": "code",
   "execution_count": 37,
   "id": "36dee9e9",
   "metadata": {},
   "outputs": [
    {
     "name": "stdout",
     "output_type": "stream",
     "text": [
      "naamapadam-train.arrow\n",
      "naamapadam-test.arrow\n",
      "naamapadam-validation.arrow\n"
     ]
    }
   ],
   "source": [
    "arrow_file_names = []\n",
    "for split in ds.cache_files:\n",
    "    file_name = ds.cache_files[split][0]['filename'].split('/')[-1]\n",
    "    print(file_name)"
   ]
  },
  {
   "cell_type": "code",
   "execution_count": 49,
   "id": "bf737572",
   "metadata": {},
   "outputs": [
    {
     "name": "stdout",
     "output_type": "stream",
     "text": [
      "Files in cache:\n",
      "naamapadam-validation.arrow\n",
      "LICENSE\n",
      "dataset_info.json\n",
      "naamapadam-test.arrow\n",
      "naamapadam-train.arrow\n"
     ]
    }
   ],
   "source": [
    "import os\n",
    "\n",
    "cache_dir = ds.cache_files['train'][0]['filename']\n",
    "cache_dir = os.path.dirname(cache_dir)  # Get directory path\n",
    "\n",
    "# List all files in the cache directory\n",
    "cached_files = os.listdir(cache_dir)\n",
    "print(\"Files in cache:\")\n",
    "for i in cached_files:\n",
    "    print(i)"
   ]
  },
  {
   "cell_type": "code",
   "execution_count": 48,
   "id": "fdba6478",
   "metadata": {},
   "outputs": [
    {
     "name": "stdout",
     "output_type": "stream",
     "text": [
      "\n",
      "Total dataset size: 179.29 MB\n"
     ]
    }
   ],
   "source": [
    "total_bytes = sum(\n",
    "    os.path.getsize(os.path.join(cache_dir, i)) for i in os.listdir(cache_dir)\n",
    ")\n",
    "\n",
    "total_mb = total_bytes / (1024 * 1024)\n",
    "\n",
    "print(f\"\\nTotal dataset size: {total_mb:.2f} MB\")"
   ]
  },
  {
   "cell_type": "code",
   "execution_count": 51,
   "id": "87c8b709",
   "metadata": {},
   "outputs": [
    {
     "data": {
      "text/plain": [
       "497882"
      ]
     },
     "execution_count": 51,
     "metadata": {},
     "output_type": "execute_result"
    }
   ],
   "source": [
    "len(ds['train'])"
   ]
  },
  {
   "cell_type": "code",
   "execution_count": null,
   "id": "5d422183",
   "metadata": {},
   "outputs": [
    {
     "data": {
      "text/plain": [
       "Dataset({\n",
       "    features: ['tokens', 'ner_tags'],\n",
       "    num_rows: 501435\n",
       "})"
      ]
     },
     "execution_count": 54,
     "metadata": {},
     "output_type": "execute_result"
    }
   ],
   "source": [
    "# combining the dataset for easier column creation\n",
    "ds_combined = concatenate_datasets([ds[\"train\"], ds[\"test\"], ds[\"validation\"]])\n",
    "ds_combined"
   ]
  },
  {
   "cell_type": "code",
   "execution_count": 63,
   "id": "4431fea6",
   "metadata": {},
   "outputs": [
    {
     "name": "stdout",
     "output_type": "stream",
     "text": [
      "Total number of tokens: 6001876\n"
     ]
    }
   ],
   "source": [
    "total_tokens = 0\n",
    "\n",
    "for example in ds_combined:\n",
    "    total_tokens += len(example['tokens'])\n",
    "\n",
    "print(\"Total number of tokens:\", total_tokens)\n"
   ]
  },
  {
   "cell_type": "code",
   "execution_count": 65,
   "id": "9a1b096d",
   "metadata": {},
   "outputs": [
    {
     "data": {
      "text/plain": [
       "[{'filename': '/Users/rajarshiroy/.cache/huggingface/datasets/ai4bharat___naamapadam/ta/1.0.0/9d4f21ac57d11ed4f9ea64854fdc9f5618e61acc/naamapadam-train.arrow'},\n",
       " {'filename': '/Users/rajarshiroy/.cache/huggingface/datasets/ai4bharat___naamapadam/ta/1.0.0/9d4f21ac57d11ed4f9ea64854fdc9f5618e61acc/naamapadam-test.arrow'},\n",
       " {'filename': '/Users/rajarshiroy/.cache/huggingface/datasets/ai4bharat___naamapadam/ta/1.0.0/9d4f21ac57d11ed4f9ea64854fdc9f5618e61acc/naamapadam-validation.arrow'}]"
      ]
     },
     "execution_count": 65,
     "metadata": {},
     "output_type": "execute_result"
    }
   ],
   "source": [
    "ds_combined.cache_files"
   ]
  },
  {
   "cell_type": "code",
   "execution_count": null,
   "id": "fd3ca111",
   "metadata": {},
   "outputs": [],
   "source": []
  }
 ],
 "metadata": {
  "kernelspec": {
   "display_name": "venv",
   "language": "python",
   "name": "python3"
  },
  "language_info": {
   "codemirror_mode": {
    "name": "ipython",
    "version": 3
   },
   "file_extension": ".py",
   "mimetype": "text/x-python",
   "name": "python",
   "nbconvert_exporter": "python",
   "pygments_lexer": "ipython3",
   "version": "3.13.0"
  }
 },
 "nbformat": 4,
 "nbformat_minor": 5
}
